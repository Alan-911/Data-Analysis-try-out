{
 "cells": [
  {
   "cell_type": "code",
   "execution_count": 2,
   "id": "bcb76379-c305-4dc1-92f1-017406548a06",
   "metadata": {},
   "outputs": [
    {
     "name": "stdout",
     "output_type": "stream",
     "text": [
      "4\n"
     ]
    }
   ],
   "source": [
    "num1 = 2\n",
    "num2 = 6\n",
    "\n",
    "print(num2 - num1)\n"
   ]
  },
  {
   "cell_type": "code",
   "execution_count": null,
   "id": "358eac5f-aaf5-4ec4-824f-d53b84118259",
   "metadata": {},
   "outputs": [],
   "source": []
  }
 ],
 "metadata": {
  "kernelspec": {
   "display_name": "Python 3 (ipykernel)",
   "language": "python",
   "name": "python3"
  },
  "language_info": {
   "codemirror_mode": {
    "name": "ipython",
    "version": 3
   },
   "file_extension": ".py",
   "mimetype": "text/x-python",
   "name": "python",
   "nbconvert_exporter": "python",
   "pygments_lexer": "ipython3",
   "version": "3.13.2"
  }
 },
 "nbformat": 4,
 "nbformat_minor": 5
}
