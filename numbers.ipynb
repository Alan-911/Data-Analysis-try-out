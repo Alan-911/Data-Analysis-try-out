{
 "cells": [
  {
   "cell_type": "code",
   "execution_count": 1,
   "id": "2a415aa5-3bf4-42af-96d5-33af7f1ef589",
   "metadata": {},
   "outputs": [
    {
     "name": "stdout",
     "output_type": "stream",
     "text": [
      "3\n"
     ]
    }
   ],
   "source": [
    "num1 = 2\n",
    "num2 = 5\n",
    "\n",
    "print(num2 - num1)\n"
   ]
  },
  {
   "cell_type": "code",
   "execution_count": null,
   "id": "29762981-297e-46cd-aebe-94aa004e3531",
   "metadata": {},
   "outputs": [],
   "source": []
  }
 ],
 "metadata": {
  "kernelspec": {
   "display_name": "Python 3 (ipykernel)",
   "language": "python",
   "name": "python3"
  },
  "language_info": {
   "codemirror_mode": {
    "name": "ipython",
    "version": 3
   },
   "file_extension": ".py",
   "mimetype": "text/x-python",
   "name": "python",
   "nbconvert_exporter": "python",
   "pygments_lexer": "ipython3",
   "version": "3.13.2"
  }
 },
 "nbformat": 4,
 "nbformat_minor": 5
}
